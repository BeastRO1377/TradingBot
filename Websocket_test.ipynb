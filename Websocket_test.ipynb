{
 "cells": [
  {
   "cell_type": "code",
   "execution_count": null,
   "metadata": {},
   "outputs": [
    {
     "name": "stderr",
     "output_type": "stream",
     "text": [
      "2025-08-16 03:16:26,990 INFO:WebSocket Unified V5 (Auth) attempting connection...\n"
     ]
    },
    {
     "name": "stdout",
     "output_type": "stream",
     "text": [
      "YO!\n"
     ]
    },
    {
     "name": "stderr",
     "output_type": "stream",
     "text": [
      "2025-08-16 03:16:27,904 INFO:Websocket connected\n",
      "2025-08-16 03:16:27,904 INFO:WebSocket Unified V5 (Auth) connected\n"
     ]
    },
    {
     "name": "stdout",
     "output_type": "stream",
     "text": [
      "{'id': '367470876_position_1755303418972', 'topic': 'position', 'creationTime': 1755303418971, 'data': [{'positionIdx': 1, 'tradeMode': 0, 'riskId': 1, 'riskLimitValue': '100000', 'symbol': 'RAREUSDT', 'side': '', 'size': '0', 'entryPrice': '0', 'sessionAvgPrice': '', 'leverage': '10', 'positionValue': '0', 'positionBalance': '0', 'markPrice': '0.05451', 'positionIM': '0', 'positionMM': '0', 'positionIMByMp': '', 'positionMMByMp': '', 'takeProfit': '0', 'stopLoss': '0', 'trailingStop': '0', 'unrealisedPnl': '0', 'cumRealisedPnl': '-41.02166804', 'curRealisedPnl': '0', 'createdTime': '1732973295311', 'updatedTime': '1755303418966', 'tpslMode': 'Full', 'liqPrice': '0', 'bustPrice': '', 'category': 'linear', 'positionStatus': 'Normal', 'adlRankIndicator': 0, 'autoAddMargin': 0, 'leverageSysUpdatedTime': '', 'mmrSysUpdatedTime': '', 'seq': 140710370134788, 'isReduceOnly': False}, {'positionIdx': 2, 'tradeMode': 0, 'riskId': 1, 'riskLimitValue': '100000', 'symbol': 'RAREUSDT', 'side': '', 'size': '0', 'entryPrice': '0', 'sessionAvgPrice': '', 'leverage': '10', 'positionValue': '0', 'positionBalance': '0', 'markPrice': '0.05451', 'positionIM': '0', 'positionMM': '0', 'positionIMByMp': '', 'positionMMByMp': '', 'takeProfit': '0', 'stopLoss': '0', 'trailingStop': '0', 'unrealisedPnl': '0', 'cumRealisedPnl': '10.01609771', 'curRealisedPnl': '0', 'createdTime': '1732973295311', 'updatedTime': '1754913057291', 'tpslMode': 'Full', 'liqPrice': '0', 'bustPrice': '', 'category': 'linear', 'positionStatus': 'Normal', 'adlRankIndicator': 0, 'autoAddMargin': 0, 'leverageSysUpdatedTime': '', 'mmrSysUpdatedTime': '', 'seq': 140710357819835, 'isReduceOnly': False}]}\n"
     ]
    },
    {
     "ename": "KeyboardInterrupt",
     "evalue": "",
     "output_type": "error",
     "traceback": [
      "\u001b[31m---------------------------------------------------------------------------\u001b[39m",
      "\u001b[31mKeyboardInterrupt\u001b[39m                         Traceback (most recent call last)",
      "\u001b[36mCell\u001b[39m\u001b[36m \u001b[39m\u001b[32mIn[4]\u001b[39m\u001b[32m, line 42\u001b[39m\n\u001b[32m     40\u001b[39m \u001b[38;5;28;01mif\u001b[39;00m \u001b[34m__name__\u001b[39m == \u001b[33m'\u001b[39m\u001b[33m__main__\u001b[39m\u001b[33m'\u001b[39m:\n\u001b[32m     41\u001b[39m     \u001b[38;5;28mprint\u001b[39m(\u001b[33m\"\u001b[39m\u001b[33mYO!\u001b[39m\u001b[33m\"\u001b[39m)\n\u001b[32m---> \u001b[39m\u001b[32m42\u001b[39m     \u001b[43mmain\u001b[49m\u001b[43m(\u001b[49m\u001b[43m)\u001b[49m\n",
      "\u001b[36mCell\u001b[39m\u001b[36m \u001b[39m\u001b[32mIn[4]\u001b[39m\u001b[32m, line 38\u001b[39m, in \u001b[36mmain\u001b[39m\u001b[34m()\u001b[39m\n\u001b[32m     31\u001b[39m ws.position_stream(\n\u001b[32m     32\u001b[39m     \u001b[38;5;66;03m#symbol=\"GASUSDT\",\u001b[39;00m\n\u001b[32m     33\u001b[39m     \u001b[38;5;66;03m#interval=1,\u001b[39;00m\n\u001b[32m     34\u001b[39m     callback=handle_message\n\u001b[32m     35\u001b[39m )\n\u001b[32m     36\u001b[39m \u001b[38;5;66;03m#raw_unrealisedPnl = ['unrealisedPnl']\u001b[39;00m\n\u001b[32m     37\u001b[39m \u001b[38;5;66;03m#logger.info(f\"Profit is {raw_unrealisedPnl}\")\u001b[39;00m\n\u001b[32m---> \u001b[39m\u001b[32m38\u001b[39m \u001b[38;5;28;01mwhile\u001b[39;00m \u001b[38;5;28;01mTrue\u001b[39;00m: sleep(\u001b[32m1\u001b[39m)\n",
      "\u001b[31mKeyboardInterrupt\u001b[39m: "
     ]
    },
    {
     "name": "stdout",
     "output_type": "stream",
     "text": [
      "{'id': '367470876_position_1755304083904', 'topic': 'position', 'creationTime': 1755304083904, 'data': [{'positionIdx': 2, 'tradeMode': 0, 'riskId': 1, 'riskLimitValue': '100000', 'symbol': 'CYBERUSDT', 'side': '', 'size': '0', 'entryPrice': '0', 'sessionAvgPrice': '', 'leverage': '10', 'positionValue': '0', 'positionBalance': '0', 'markPrice': '2.421', 'positionIM': '0', 'positionMM': '0', 'positionIMByMp': '', 'positionMMByMp': '', 'takeProfit': '0', 'stopLoss': '0', 'trailingStop': '0', 'unrealisedPnl': '0', 'cumRealisedPnl': '-103.29338338', 'curRealisedPnl': '0', 'createdTime': '1732847962751', 'updatedTime': '1754913268547', 'tpslMode': 'Full', 'liqPrice': '0', 'bustPrice': '', 'category': 'linear', 'positionStatus': 'Normal', 'adlRankIndicator': 0, 'autoAddMargin': 0, 'leverageSysUpdatedTime': '', 'mmrSysUpdatedTime': '', 'seq': 140710357827051, 'isReduceOnly': False}, {'positionIdx': 1, 'tradeMode': 0, 'riskId': 1, 'riskLimitValue': '100000', 'symbol': 'CYBERUSDT', 'side': 'Buy', 'size': '413', 'entryPrice': '2.421', 'sessionAvgPrice': '', 'leverage': '10', 'positionValue': '999.873', 'positionBalance': '0', 'markPrice': '2.421', 'positionIM': '100.48223714', 'positionMM': '20.49239714', 'positionIMByMp': '100.48223713', 'positionMMByMp': '20.49239713', 'takeProfit': '0', 'stopLoss': '0', 'trailingStop': '0', 'unrealisedPnl': '0', 'cumRealisedPnl': '4.85369978', 'curRealisedPnl': '-0.54993015', 'createdTime': '1732847962751', 'updatedTime': '1755304083900', 'tpslMode': 'Full', 'liqPrice': '', 'bustPrice': '', 'category': 'linear', 'positionStatus': 'Normal', 'adlRankIndicator': 2, 'autoAddMargin': 0, 'leverageSysUpdatedTime': '', 'mmrSysUpdatedTime': '', 'seq': 140710370154628, 'isReduceOnly': False}]}\n",
      "{'id': '367470876_position_1755304128395', 'topic': 'position', 'creationTime': 1755304128394, 'data': [{'positionIdx': 1, 'tradeMode': 0, 'riskId': 1, 'riskLimitValue': '100000', 'symbol': 'GASUSDT', 'side': '', 'size': '0', 'entryPrice': '0', 'sessionAvgPrice': '', 'leverage': '10', 'positionValue': '0', 'positionBalance': '0', 'markPrice': '3.402', 'positionIM': '0', 'positionMM': '0', 'positionIMByMp': '', 'positionMMByMp': '', 'takeProfit': '0', 'stopLoss': '0', 'trailingStop': '0', 'unrealisedPnl': '0', 'cumRealisedPnl': '-12.80159166', 'curRealisedPnl': '0', 'createdTime': '1732847972314', 'updatedTime': '1745477414942', 'tpslMode': 'Full', 'liqPrice': '0', 'bustPrice': '', 'category': 'linear', 'positionStatus': 'Normal', 'adlRankIndicator': 0, 'autoAddMargin': 0, 'leverageSysUpdatedTime': '', 'mmrSysUpdatedTime': '', 'seq': 140710046129066, 'isReduceOnly': False}, {'positionIdx': 2, 'tradeMode': 0, 'riskId': 1, 'riskLimitValue': '100000', 'symbol': 'GASUSDT', 'side': '', 'size': '0', 'entryPrice': '0', 'sessionAvgPrice': '', 'leverage': '10', 'positionValue': '0', 'positionBalance': '0', 'markPrice': '3.402', 'positionIM': '0', 'positionMM': '0', 'positionIMByMp': '', 'positionMMByMp': '', 'takeProfit': '0', 'stopLoss': '0', 'trailingStop': '0', 'unrealisedPnl': '0', 'cumRealisedPnl': '-26.74952888', 'curRealisedPnl': '0', 'createdTime': '1732847972314', 'updatedTime': '1755304128389', 'tpslMode': 'Full', 'liqPrice': '0', 'bustPrice': '', 'category': 'linear', 'positionStatus': 'Normal', 'adlRankIndicator': 0, 'autoAddMargin': 0, 'leverageSysUpdatedTime': '', 'mmrSysUpdatedTime': '', 'seq': 140710370155910, 'isReduceOnly': False}]}\n",
      "{'id': '367470876_position_1755304695964', 'topic': 'position', 'creationTime': 1755304695963, 'data': [{'positionIdx': 2, 'tradeMode': 0, 'riskId': 1, 'riskLimitValue': '25000', 'symbol': 'TAUSDT', 'side': '', 'size': '0', 'entryPrice': '0', 'sessionAvgPrice': '', 'leverage': '10', 'positionValue': '0', 'positionBalance': '0', 'markPrice': '0.0527', 'positionIM': '0', 'positionMM': '0', 'positionIMByMp': '', 'positionMMByMp': '', 'takeProfit': '0', 'stopLoss': '0', 'trailingStop': '0', 'unrealisedPnl': '0', 'cumRealisedPnl': '-253.47012542', 'curRealisedPnl': '0', 'createdTime': '1753953668511', 'updatedTime': '1754819775591', 'tpslMode': 'Full', 'liqPrice': '0', 'bustPrice': '', 'category': 'linear', 'positionStatus': 'Normal', 'adlRankIndicator': 0, 'autoAddMargin': 0, 'leverageSysUpdatedTime': '', 'mmrSysUpdatedTime': '', 'seq': 140710354967452, 'isReduceOnly': False}, {'positionIdx': 1, 'tradeMode': 0, 'riskId': 1, 'riskLimitValue': '25000', 'symbol': 'TAUSDT', 'side': 'Buy', 'size': '18975', 'entryPrice': '0.0527', 'sessionAvgPrice': '', 'leverage': '10', 'positionValue': '999.9825', 'positionBalance': '0', 'markPrice': '0.0527', 'positionIM': '100.98823268', 'positionMM': '20.98963268', 'positionIMByMp': '100.49324133', 'positionMMByMp': '20.49464133', 'takeProfit': '0', 'stopLoss': '0', 'trailingStop': '0', 'unrealisedPnl': '0', 'cumRealisedPnl': '-1.09998075', 'curRealisedPnl': '-1.09998075', 'createdTime': '1753953668511', 'updatedTime': '1755304695958', 'tpslMode': 'Full', 'liqPrice': '', 'bustPrice': '', 'category': 'linear', 'positionStatus': 'Normal', 'adlRankIndicator': 2, 'autoAddMargin': 0, 'leverageSysUpdatedTime': '', 'mmrSysUpdatedTime': '', 'seq': 140710370172935, 'isReduceOnly': False}]}\n",
      "{'id': '367470876_position_1755304782320', 'topic': 'position', 'creationTime': 1755304782319, 'data': [{'positionIdx': 2, 'tradeMode': 0, 'riskId': 1, 'riskLimitValue': '25000', 'symbol': 'TAUSDT', 'side': '', 'size': '0', 'entryPrice': '0', 'sessionAvgPrice': '', 'leverage': '10', 'positionValue': '0', 'positionBalance': '0', 'markPrice': '0.0525', 'positionIM': '0', 'positionMM': '0', 'positionIMByMp': '', 'positionMMByMp': '', 'takeProfit': '0', 'stopLoss': '0', 'trailingStop': '0', 'unrealisedPnl': '0', 'cumRealisedPnl': '-253.47012542', 'curRealisedPnl': '0', 'createdTime': '1753953668511', 'updatedTime': '1754819775591', 'tpslMode': 'Full', 'liqPrice': '0', 'bustPrice': '', 'category': 'linear', 'positionStatus': 'Normal', 'adlRankIndicator': 0, 'autoAddMargin': 0, 'leverageSysUpdatedTime': '', 'mmrSysUpdatedTime': '', 'seq': 140710354967452, 'isReduceOnly': False}, {'positionIdx': 1, 'tradeMode': 0, 'riskId': 1, 'riskLimitValue': '25000', 'symbol': 'TAUSDT', 'side': 'Buy', 'size': '37986', 'entryPrice': '0.05264995', 'sessionAvgPrice': '', 'leverage': '10', 'positionValue': '1999.9611', 'positionBalance': '0', 'markPrice': '0.0525', 'positionIM': '201.97607149', 'positionMM': '41.97918349', 'positionIMByMp': '200.41648069', 'positionMMByMp': '40.87528069', 'takeProfit': '0', 'stopLoss': '0', 'trailingStop': '0', 'unrealisedPnl': '-5.6961', 'cumRealisedPnl': '-2.19995721', 'curRealisedPnl': '-2.19995721', 'createdTime': '1753953668511', 'updatedTime': '1755304782314', 'tpslMode': 'Full', 'liqPrice': '', 'bustPrice': '', 'category': 'linear', 'positionStatus': 'Normal', 'adlRankIndicator': 2, 'autoAddMargin': 0, 'leverageSysUpdatedTime': '', 'mmrSysUpdatedTime': '', 'seq': 140710370175506, 'isReduceOnly': False}]}\n"
     ]
    }
   ],
   "source": [
    "import json\n",
    "import pybit\n",
    "from pybit.unified_trading import WebSocket\n",
    "from time import sleep\n",
    "import logging\n",
    "from decimal import Decimal\n",
    "\n",
    "logging.basicConfig(\n",
    "    level=logging.INFO,\n",
    "    format=\"%(asctime)s %(levelname)s:%(message)s\"\n",
    ")\n",
    "logger = logging.getLogger(__name__)\n",
    "\n",
    "\n",
    "#api=\"OYlw298VwmWnBaDS69\"\n",
    "#api_secret=\"e64KL5vR4Qh259yrZTpCVu6p0UJvODssfilq\"\n",
    "\n",
    "\n",
    "def handle_message(message):\n",
    "    print(message)\n",
    "\n",
    "def main():\n",
    "    ws = WebSocket(\n",
    "    testnet=False,\n",
    "    demo=True,\n",
    "    channel_type=\"private\",\n",
    "    api_key=\"zjGl602m0LIxqOuRlH\",\n",
    "    api_secret=\"yGHK33WAcQsnWupcb7EVfgr9LJufLVaqVue1\",\n",
    "    )\n",
    "\n",
    "    ws.position_stream(\n",
    "        #symbol=\"GASUSDT\",\n",
    "        #interval=1,\n",
    "        callback=handle_message\n",
    "    )\n",
    "    #raw_unrealisedPnl = ['unrealisedPnl']\n",
    "    #logger.info(f\"Profit is {raw_unrealisedPnl}\")\n",
    "    while True: sleep(1)\n",
    "\n",
    "if __name__ == '__main__':\n",
    "    print(\"YO!\")\n",
    "    main()"
   ]
  }
 ],
 "metadata": {
  "kernelspec": {
   "display_name": ".venv",
   "language": "python",
   "name": "python3"
  },
  "language_info": {
   "codemirror_mode": {
    "name": "ipython",
    "version": 3
   },
   "file_extension": ".py",
   "mimetype": "text/x-python",
   "name": "python",
   "nbconvert_exporter": "python",
   "pygments_lexer": "ipython3",
   "version": "3.11.12"
  }
 },
 "nbformat": 4,
 "nbformat_minor": 2
}
